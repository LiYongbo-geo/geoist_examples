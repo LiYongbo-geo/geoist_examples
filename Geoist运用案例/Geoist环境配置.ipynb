{
 "cells": [
  {
   "cell_type": "markdown",
   "metadata": {},
   "source": [
    "## 一、环境配置\n",
    "### 1、预安装ubuntu系统，修改树莓派4b系统配置\n",
    "\n",
    "sudo raspi-config    \n",
    "初始用户pi，密码pi\n",
    "### 2、安装嵌入式数据库\n",
    "执行 sudo apt install sqlite3   \n",
    "运行sqlite3，退出.quit\n",
    "## 3、安装Juypter环境，对外端口8888\n",
    "执行 pip3 install jupyter   \n",
    "升级 pip3 install --upgrade --user nbconvert   \n",
    "运行 /home/pi/.local/bin/jupyter notebook --ip=0.0.0.0 --no-browser\n",
    "### 4、安装GEOIST和依赖的python包\n",
    "更改默认python版本   \n",
    "sudo update-alternatives --install /usr/bin/python python /usr/bin/python2 100   \n",
    "sudo update-alternatives --install /usr/bin/python python /usr/bin/python3 150   \n",
    "安装依赖包   \n",
    "pip install Cython   \n",
    "git clone https://github.com/igp-gravity/geoist.git   \n",
    "！需要输入gitee账号   \n",
    "cd geoist   \n",
    "安装geoist   \n",
    "pip install .   "
   ]
  },
  {
   "cell_type": "markdown",
   "metadata": {},
   "source": []
  }
 ],
 "metadata": {
  "language_info": {
   "name": "python"
  },
  "orig_nbformat": 4
 },
 "nbformat": 4,
 "nbformat_minor": 2
}
